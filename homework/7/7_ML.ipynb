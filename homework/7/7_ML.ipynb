{
 "cells": [
  {
   "cell_type": "code",
   "execution_count": 1,
   "id": "203f269c-8f35-4d63-af9c-3bf778928a35",
   "metadata": {},
   "outputs": [],
   "source": [
    "from sklearn import datasets\n",
    "from sklearn.preprocessing import StandardScaler\n",
    "from sklearn.decomposition import PCA\n",
    "from sklearn.cluster import KMeans\n",
    "from sklearn.metrics import homogeneity_score, completeness_score, adjusted_rand_score\n",
    "import pandas as pd"
   ]
  },
  {
   "cell_type": "code",
   "execution_count": 2,
   "id": "9d866310-eb3a-44f5-8233-ecc8e7ce26e2",
   "metadata": {},
   "outputs": [],
   "source": [
    "iris = datasets.load_iris()\n",
    "X = iris.data\n",
    "\n",
    "scaler = StandardScaler()\n",
    "X_scaled = scaler.fit_transform(X)\n",
    "\n",
    "results = []\n",
    "true_labels = iris.target"
   ]
  },
  {
   "cell_type": "code",
   "execution_count": 3,
   "id": "006b2111-c2c6-4aeb-973f-e6f9b46d770f",
   "metadata": {},
   "outputs": [],
   "source": [
    "kmeans = KMeans(n_clusters=3, random_state=42, n_init=10)\n",
    "kmeans.fit(X_scaled)\n",
    "labels = kmeans.labels_\n",
    "\n",
    "homogeneity_val = homogeneity_score(true_labels, labels)\n",
    "completeness_val = completeness_score(true_labels, labels)\n",
    "ari_score = adjusted_rand_score(true_labels, labels)\n",
    "\n",
    "results.append({\n",
    "    'NumComponents': \"without component\",\n",
    "    'Homogeneity': homogeneity_val,\n",
    "    'Completeness': completeness_val,\n",
    "    'ARI': ari_score,\n",
    "})"
   ]
  },
  {
   "cell_type": "code",
   "execution_count": 4,
   "id": "38f640b3-3eef-4dc0-bc05-4f18e8856392",
   "metadata": {},
   "outputs": [
    {
     "name": "stdout",
     "output_type": "stream",
     "text": [
      "       NumComponents  Homogeneity  Completeness       ARI\n",
      "0  without component     0.659127      0.659848  0.620135\n",
      "1                  1     0.789914      0.790010  0.801550\n",
      "2                  2     0.659127      0.659848  0.620135\n",
      "3                  3     0.659127      0.659848  0.620135\n"
     ]
    }
   ],
   "source": [
    "for n in range(1, 4):\n",
    "    pca = PCA(n_components=n)\n",
    "    X_pca = pca.fit_transform(X_scaled)\n",
    "\n",
    "    kmeans = KMeans(n_clusters=3, random_state=42, n_init=10)\n",
    "    kmeans.fit(X_pca)\n",
    "    labels = kmeans.labels_\n",
    "\n",
    "    homogeneity_val = homogeneity_score(true_labels, labels)\n",
    "    completeness_val = completeness_score(true_labels, labels)\n",
    "    ari_score = adjusted_rand_score(true_labels, labels)\n",
    "\n",
    "    results.append({\n",
    "        'NumComponents': n,\n",
    "        'Homogeneity': homogeneity_val,\n",
    "        'Completeness': completeness_val,\n",
    "        'ARI': ari_score,\n",
    "    })\n",
    "\n",
    "results_df = pd.DataFrame(results)\n",
    "\n",
    "print(results_df)"
   ]
  },
  {
   "cell_type": "code",
   "execution_count": 5,
   "id": "92362905-18c1-4903-b2e2-c3a8a935f769",
   "metadata": {},
   "outputs": [
    {
     "name": "stdout",
     "output_type": "stream",
     "text": [
      "Максимальное значение ARI: 0.8015498244339508\n",
      "Оптимальное значение n_components по ARI: 1\n",
      "Homogeneity для оптимальной конфигурации: 0.7899143618189679\n",
      "Completeness для оптимальной конфигурации: 0.7900102479875966\n"
     ]
    }
   ],
   "source": [
    "max_ari = results_df['ARI'].max()\n",
    "best_n_components_ari = results_df['NumComponents'][results_df['ARI'].idxmax()]\n",
    "\n",
    "homogeneity_for_best_ari = results_df.loc[results_df['NumComponents'] == best_n_components_ari, 'Homogeneity'].values[0]\n",
    "completeness_for_best_ari = results_df.loc[results_df['NumComponents'] == best_n_components_ari, 'Completeness'].values[0]\n",
    "\n",
    "print(\"Максимальное значение ARI:\", max_ari)\n",
    "print(\"Оптимальное значение n_components по ARI:\", best_n_components_ari)\n",
    "print(\"Homogeneity для оптимальной конфигурации:\", homogeneity_for_best_ari)\n",
    "print(\"Completeness для оптимальной конфигурации:\", completeness_for_best_ari)"
   ]
  },
  {
   "cell_type": "code",
   "execution_count": null,
   "id": "6a3ceadb-0e0a-4bd4-9a73-b24d1ac204ca",
   "metadata": {},
   "outputs": [],
   "source": []
  }
 ],
 "metadata": {
  "kernelspec": {
   "display_name": "Python 3 (ipykernel)",
   "language": "python",
   "name": "python3"
  },
  "language_info": {
   "codemirror_mode": {
    "name": "ipython",
    "version": 3
   },
   "file_extension": ".py",
   "mimetype": "text/x-python",
   "name": "python",
   "nbconvert_exporter": "python",
   "pygments_lexer": "ipython3",
   "version": "3.11.1"
  }
 },
 "nbformat": 4,
 "nbformat_minor": 5
}
